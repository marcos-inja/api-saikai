{
 "cells": [
  {
   "cell_type": "markdown",
   "source": [
    "# Explicação de como vai ser o crawler do sobre\n",
    "*Ignore as gambiarras*"
   ],
   "metadata": {}
  },
  {
   "cell_type": "code",
   "execution_count": 26,
   "source": [
    "import requests\n",
    "from bs4 import BeautifulSoup\n",
    "\n",
    "nome_novel = 'reincarnation-of-the-strongest-sword-god-rssg'\n",
    "# nome_novel = 'king-of-gods-kog'\n",
    "novel = requests.get(f'https://saikaiscan.com.br/series/{nome_novel}?tab=sobre')"
   ],
   "outputs": [],
   "metadata": {}
  },
  {
   "cell_type": "code",
   "execution_count": 27,
   "source": [
    "soup = BeautifulSoup(novel.text, 'html.parser')"
   ],
   "outputs": [],
   "metadata": {}
  },
  {
   "cell_type": "markdown",
   "source": [
    "## Pega tudo que está dentro do __text-content\n",
    "É feito assim para ser usado mais para frente"
   ],
   "metadata": {}
  },
  {
   "cell_type": "code",
   "execution_count": 28,
   "source": [
    "content_main = soup.find_all(class_ = '__text-content')\n",
    "content_main"
   ],
   "outputs": [
    {
     "output_type": "execute_result",
     "data": {
      "text/plain": [
       "[<div class=\"__text-content\" data-v-765fe70d=\"\" id=\"synopsis-content\"><p class=\"ql-paragraph-height-12\">Ele é persistente e não está disposto a ser normal. Entretanto, o caminho estava destinado a ser esse, nascido em um dos ramos de uma pequena seita.</p><p class=\"ql-paragraph-height-12\">Contudo, um dia, seu olho esquerdo se funde com o olho de um Antigo Deus. A partir daquele momento, ele se transformou de um peixe para um dragão.</p><p class=\"ql-paragraph-height-12\">Ele se ergue igual uma estrela, trilhando o caminho de um lendário cultivador.</p><p class=\"ql-paragraph-height-12\">Por ser uma pequena formiga no mundo pequeno, passo a passo ele sobe, para um lugar cheio de poderosas seitas, fortes clãs antigos e inúmeros gênios.</p><p class=\"ql-paragraph-height-12\">Essa é uma era das lendas.</p></div>,\n",
       " <div class=\"__text-content\" data-v-765fe70d=\"\"><ul data-v-765fe70d=\"\"><li data-v-765fe70d=\"\">\n",
       "         Chủ tể chi vương\n",
       "       </li><li data-v-765fe70d=\"\">\n",
       "         主宰之王\n",
       "       </li></ul></div>,\n",
       " <div class=\"__text-content\" data-v-765fe70d=\"\"><span class=\"tag __tag is-dark is-rounded\" data-v-765fe70d=\"\"><span><span class=\"icon is-small\" data-v-765fe70d=\"\"><i class=\"mdi mdi-tag-outline\"></i></span>\n",
       "       Ação\n",
       "     </span><!-- --></span><span class=\"tag __tag is-dark is-rounded\" data-v-765fe70d=\"\"><span><span class=\"icon is-small\" data-v-765fe70d=\"\"><i class=\"mdi mdi-tag-outline\"></i></span>\n",
       "       Aventura\n",
       "     </span><!-- --></span><span class=\"tag __tag is-dark is-rounded\" data-v-765fe70d=\"\"><span><span class=\"icon is-small\" data-v-765fe70d=\"\"><i class=\"mdi mdi-tag-outline\"></i></span>\n",
       "       Fantasia\n",
       "     </span><!-- --></span><span class=\"tag __tag is-dark is-rounded\" data-v-765fe70d=\"\"><span><span class=\"icon is-small\" data-v-765fe70d=\"\"><i class=\"mdi mdi-tag-outline\"></i></span>\n",
       "       Reencarnação\n",
       "     </span><!-- --></span><span class=\"tag __tag is-dark is-rounded\" data-v-765fe70d=\"\"><span><span class=\"icon is-small\" data-v-765fe70d=\"\"><i class=\"mdi mdi-tag-outline\"></i></span>\n",
       "       Tragédia\n",
       "     </span><!-- --></span><span class=\"tag __tag is-dark is-rounded\" data-v-765fe70d=\"\"><span><span class=\"icon is-small\" data-v-765fe70d=\"\"><i class=\"mdi mdi-tag-outline\"></i></span>\n",
       "       Wuxia\n",
       "     </span><!-- --></span><span class=\"tag __tag is-dark is-rounded\" data-v-765fe70d=\"\"><span><span class=\"icon is-small\" data-v-765fe70d=\"\"><i class=\"mdi mdi-tag-outline\"></i></span>\n",
       "       Xianxia\n",
       "     </span><!-- --></span><span class=\"tag __tag is-dark is-rounded\" data-v-765fe70d=\"\"><span><span class=\"icon is-small\" data-v-765fe70d=\"\"><i class=\"mdi mdi-tag-outline\"></i></span>\n",
       "       Xuanhuan\n",
       "     </span><!-- --></span></div>,\n",
       " <div class=\"__text-content\" data-v-765fe70d=\"\"><span class=\"tag __tag is-dark is-rounded\" data-v-765fe70d=\"\"><span>\n",
       "       Animais de Estimação\n",
       "     </span><!-- --></span><span class=\"tag __tag is-dark is-rounded\" data-v-765fe70d=\"\"><span>\n",
       "       Arqueirismo\n",
       "     </span><!-- --></span><span class=\"tag __tag is-dark is-rounded\" data-v-765fe70d=\"\"><span>\n",
       "       Artes Marciais\n",
       "     </span><!-- --></span><span class=\"tag __tag is-dark is-rounded\" data-v-765fe70d=\"\"><span>\n",
       "       Bestas Companheiras\n",
       "     </span><!-- --></span><span class=\"tag __tag is-dark is-rounded\" data-v-765fe70d=\"\"><span>\n",
       "       Compreensão do Tao\n",
       "     </span><!-- --></span><span class=\"tag __tag is-dark is-rounded\" data-v-765fe70d=\"\"><span>\n",
       "       Cultivo\n",
       "     </span><!-- --></span><span class=\"tag __tag is-dark is-rounded\" data-v-765fe70d=\"\"><span>\n",
       "       Deuses\n",
       "     </span><!-- --></span><span class=\"tag __tag is-dark is-rounded\" data-v-765fe70d=\"\"><span>\n",
       "       Dragões\n",
       "     </span><!-- --></span><span class=\"tag __tag is-dark is-rounded\" data-v-765fe70d=\"\"><span>\n",
       "       Formações Mágicas\n",
       "     </span><!-- --></span><span class=\"tag __tag is-dark is-rounded\" data-v-765fe70d=\"\"><span>\n",
       "       Fraco A Forte\n",
       "     </span><!-- --></span><span class=\"tag __tag is-dark is-rounded\" data-v-765fe70d=\"\"><span>\n",
       "       Ganho De Força Repentino\n",
       "     </span><!-- --></span><span class=\"tag __tag is-dark is-rounded\" data-v-765fe70d=\"\"><span>\n",
       "       Guerra\n",
       "     </span><!-- --></span><span class=\"tag __tag is-dark is-rounded\" data-v-765fe70d=\"\"><span>\n",
       "       Herança\n",
       "     </span><!-- --></span><span class=\"tag __tag is-dark is-rounded\" data-v-765fe70d=\"\"><span>\n",
       "       Magia Elemental\n",
       "     </span><!-- --></span><span class=\"tag __tag is-dark is-rounded\" data-v-765fe70d=\"\"><span>\n",
       "       Manipulação Do Tempo\n",
       "     </span><!-- --></span><span class=\"tag __tag is-dark is-rounded\" data-v-765fe70d=\"\"><span>\n",
       "       Manipulação Espacial\n",
       "     </span><!-- --></span><span class=\"tag __tag is-dark is-rounded\" data-v-765fe70d=\"\"><span>\n",
       "       Memória Eidética\n",
       "     </span><!-- --></span><span class=\"tag __tag is-dark is-rounded\" data-v-765fe70d=\"\"><span>\n",
       "       Mudança de Aparência\n",
       "     </span><!-- --></span><span class=\"tag __tag is-dark is-rounded\" data-v-765fe70d=\"\"><span>\n",
       "       Múltiplos Reinos\n",
       "     </span><!-- --></span><span class=\"tag __tag is-dark is-rounded\" data-v-765fe70d=\"\"><span>\n",
       "       Personagens Arrogantes\n",
       "     </span><!-- --></span><span class=\"tag __tag is-dark is-rounded\" data-v-765fe70d=\"\"><span>\n",
       "       Poder da Alma\n",
       "     </span><!-- --></span><span class=\"tag __tag is-dark is-rounded\" data-v-765fe70d=\"\"><span>\n",
       "       Protagonista Apático\n",
       "     </span><!-- --></span><span class=\"tag __tag is-dark is-rounded\" data-v-765fe70d=\"\"><span>\n",
       "       Protagonista Calmo\n",
       "     </span><!-- --></span><span class=\"tag __tag is-dark is-rounded\" data-v-765fe70d=\"\"><span>\n",
       "       Protagonista Feminina Linda\n",
       "     </span><!-- --></span><span class=\"tag __tag is-dark is-rounded\" data-v-765fe70d=\"\"><span>\n",
       "       Protagonista Implacável\n",
       "     </span><!-- --></span><span class=\"tag __tag is-dark is-rounded\" data-v-765fe70d=\"\"><span>\n",
       "       Protagonista Maduro\n",
       "     </span><!-- --></span><span class=\"tag __tag is-dark is-rounded\" data-v-765fe70d=\"\"><span>\n",
       "       Protagonista Sortudo\n",
       "     </span><!-- --></span><span class=\"tag __tag is-dark is-rounded\" data-v-765fe70d=\"\"><span>\n",
       "       Protagonista Subestimado\n",
       "     </span><!-- --></span><span class=\"tag __tag is-dark is-rounded\" data-v-765fe70d=\"\"><span>\n",
       "       Refinamento do Corpo\n",
       "     </span><!-- --></span><span class=\"tag __tag is-dark is-rounded\" data-v-765fe70d=\"\"><span>\n",
       "       Roubo de Habilidades\n",
       "     </span><!-- --></span><span class=\"tag __tag is-dark is-rounded\" data-v-765fe70d=\"\"><span>\n",
       "       Técnica Única De Cultivo\n",
       "     </span><!-- --></span><span class=\"tag __tag is-dark is-rounded\" data-v-765fe70d=\"\"><span>\n",
       "       Viagem Pelo Mundo\n",
       "     </span><!-- --></span></div>]"
      ]
     },
     "metadata": {},
     "execution_count": 28
    }
   ],
   "metadata": {}
  },
  {
   "cell_type": "markdown",
   "source": [
    "# Pega a sinopse\n",
    "Exite alguns modelos diferentes, então uso try para isso, se der erro a o que foi buscado não se encaixa nesse formato e vai para o outro."
   ],
   "metadata": {}
  },
  {
   "cell_type": "code",
   "execution_count": 30,
   "source": [
    "try:\n",
    "    try:\n",
    "        text_synopsis = content_main[0].find_all('p')\n",
    "        cont = 0\n",
    "        for i in text_synopsis:\n",
    "            span = text_synopsis[cont].contents[0]\n",
    "            print(span.contents[0])\n",
    "            cont+=1\n",
    "    except:\n",
    "        text_synopsis = content_main[0].find_all('p')\n",
    "        cont = 0\n",
    "        for i in text_synopsis:\n",
    "            print(text_synopsis[cont].contents[0])\n",
    "            cont+=1\n",
    "except:\n",
    "    print('aqui')\n",
    "    text_synopsis = content_main[0].find('span')\n",
    "    print(text_synopsis.contents[0])"
   ],
   "outputs": [
    {
     "output_type": "stream",
     "name": "stdout",
     "text": [
      "Ele é persistente e não está disposto a ser normal. Entretanto, o caminho estava destinado a ser esse, nascido em um dos ramos de uma pequena seita.\n",
      "Contudo, um dia, seu olho esquerdo se funde com o olho de um Antigo Deus. A partir daquele momento, ele se transformou de um peixe para um dragão.\n",
      "Ele se ergue igual uma estrela, trilhando o caminho de um lendário cultivador.\n",
      "Por ser uma pequena formiga no mundo pequeno, passo a passo ele sobe, para um lugar cheio de poderosas seitas, fortes clãs antigos e inúmeros gênios.\n",
      "Essa é uma era das lendas.\n"
     ]
    }
   ],
   "metadata": {}
  },
  {
   "cell_type": "markdown",
   "source": [
    "# Pega os gêneros das obras"
   ],
   "metadata": {}
  },
  {
   "cell_type": "code",
   "execution_count": 49,
   "source": [
    "#Pega os gêneros\n",
    "span = content_main[1].find_all('span')\n",
    "if span == []:\n",
    "    span = content_main[2].find_all('span')\n",
    "cont = 0\n",
    "for i in span:\n",
    "    try:\n",
    "        spann = span[cont].find('span')\n",
    "        spann = spann.contents[1].strip()\n",
    "        print(spann)\n",
    "        cont += 3\n",
    "    except:\n",
    "        pass"
   ],
   "outputs": [
    {
     "output_type": "stream",
     "name": "stdout",
     "text": [
      "Ação\n",
      "Aventura\n",
      "Fantasia\n",
      "Reencarnação\n",
      "Tragédia\n",
      "Wuxia\n",
      "Xianxia\n",
      "Xuanhuan\n"
     ]
    }
   ],
   "metadata": {}
  },
  {
   "cell_type": "markdown",
   "source": [
    "# Pega ás tags"
   ],
   "metadata": {}
  },
  {
   "cell_type": "code",
   "execution_count": 112,
   "source": [
    "span = content_main[2].find_all('span')\n",
    "cont = 0\n",
    "\n",
    "for i in span:\n",
    "    try:\n",
    "        spann = i.find('span')\n",
    "        spann = spann.contents[0].strip()\n",
    "        print(spann)\n",
    "        cont += 1\n",
    "    except:\n",
    "        pass\n",
    "\n",
    "if cont == 0:\n",
    "    span = content_main[3].find_all('span')\n",
    "    cont = 0\n",
    "    for i in span:\n",
    "        try:\n",
    "            spann = i.find('span')\n",
    "            spann = spann.contents[0].strip()\n",
    "            print(spann)\n",
    "            cont += 1\n",
    "        except:\n",
    "            pass"
   ],
   "outputs": [
    {
     "output_type": "stream",
     "name": "stdout",
     "text": [
      "Mangá\n"
     ]
    }
   ],
   "metadata": {}
  },
  {
   "cell_type": "code",
   "execution_count": null,
   "source": [],
   "outputs": [],
   "metadata": {}
  },
  {
   "cell_type": "code",
   "execution_count": null,
   "source": [],
   "outputs": [],
   "metadata": {}
  }
 ],
 "metadata": {
  "kernelspec": {
   "name": "python3",
   "display_name": "Python 3.8.10 64-bit"
  },
  "language_info": {
   "codemirror_mode": {
    "name": "ipython",
    "version": 3
   },
   "file_extension": ".py",
   "mimetype": "text/x-python",
   "name": "python",
   "nbconvert_exporter": "python",
   "pygments_lexer": "ipython3",
   "version": "3.8.10"
  },
  "interpreter": {
   "hash": "916dbcbb3f70747c44a77c7bcd40155683ae19c65e1c03b4aa3499c5328201f1"
  }
 },
 "nbformat": 4,
 "nbformat_minor": 5
}