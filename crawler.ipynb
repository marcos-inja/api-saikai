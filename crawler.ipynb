{
 "cells": [
  {
   "cell_type": "code",
   "execution_count": 147,
   "id": "54a64167",
   "metadata": {},
   "outputs": [],
   "source": [
    "import requests\n",
    "from bs4 import BeautifulSoup\n",
    "import json\n",
    "\n",
    "URL = 'https://saikaiscan.com.br/series'\n",
    "url_part_name_novel = '/a-guerra-dos-nove-mundos-gnm'\n",
    "\n",
    "url_format = f'{URL}{url_part_name_novel}'\n",
    "\n",
    "page_source = requests.get(url_format)\n",
    "soup = BeautifulSoup(page_source.text, 'html.parser')"
   ]
  },
  {
   "cell_type": "code",
   "execution_count": 148,
   "id": "e003b36c",
   "metadata": {},
   "outputs": [],
   "source": [
    "header_of_page = soup.find(class_ = '__header')\n",
    "title_novel = header_of_page.find(class_ = '__title').text"
   ]
  },
  {
   "cell_type": "code",
   "execution_count": 149,
   "id": "05a9a0ac",
   "metadata": {},
   "outputs": [],
   "source": [
    "infos_novel = header_of_page.find_all(class_ = '__infos' )[1]\n",
    "infos_novel = infos_novel.text.split('\\n')\n",
    "infos_novel = [i.strip() for i in infos_novel]\n",
    "infos_novel = [i for i in infos_novel if i != '']"
   ]
  },
  {
   "cell_type": "code",
   "execution_count": 150,
   "id": "7c2deb93",
   "metadata": {},
   "outputs": [],
   "source": [
    "star_rating = header_of_page.find(class_ = 'star-rating').text.strip().split('(')\n",
    "star_rating = [i.replace(')', '') for i in star_rating]"
   ]
  },
  {
   "cell_type": "code",
   "execution_count": 151,
   "id": "5bc22019",
   "metadata": {},
   "outputs": [
    {
     "data": {
      "text/plain": [
       "['0 Capítulos Lançados na Última Semana',\n",
       " 'A Guerra dos Nove Mundos GNM',\n",
       " 'Fantasia',\n",
       " '232 Capítulos',\n",
       " 'Em 193 Bibliotecas',\n",
       " 'Em Andamento',\n",
       " '5.0 (3 Avaliações) Idioma Original:',\n",
       " 'Português',\n",
       " 'Autor:',\n",
       " 'Maurício Argôlo',\n",
       " 'Revisor:',\n",
       " 'solidsnake',\n",
       " 'QC:',\n",
       " 'bru']"
      ]
     },
     "execution_count": 151,
     "metadata": {},
     "output_type": "execute_result"
    }
   ],
   "source": [
    "content = soup.find(class_ = '__content')\n",
    "content = content.text.split(\"\\n\")\n",
    "content = [i.strip() for i in content]\n",
    "content = [i for i in content if i != '']\n",
    "content"
   ]
  },
  {
   "cell_type": "code",
   "execution_count": 152,
   "id": "c4f5db55",
   "metadata": {},
   "outputs": [],
   "source": [
    "def try_and_try(name, content):\n",
    "    for pos , i in enumerate(content):\n",
    "        if name in i:\n",
    "            return pos + 1"
   ]
  },
  {
   "cell_type": "code",
   "execution_count": 153,
   "id": "4b6ee2e2",
   "metadata": {},
   "outputs": [
    {
     "data": {
      "text/plain": [
       "{'name_of_novel': 'A Guerra dos Nove Mundos GNM',\n",
       " 'genre_of_novel': 'Fantasia',\n",
       " 'chapters_of_novel': '232 Capítulos',\n",
       " 'status_of_active': 'Em Andamento',\n",
       " 'rated_novel': {'average': '5.0', 'people_ratings': '3 Avaliações'},\n",
       " 'original_language': 'Português',\n",
       " 'author': 'Maurício Argôlo',\n",
       " 'reviewer': 'solidsnake'}"
      ]
     },
     "execution_count": 153,
     "metadata": {},
     "output_type": "execute_result"
    }
   ],
   "source": [
    "novel = {}\n",
    "novel['name_of_novel'] = content[1]\n",
    "novel['genre_of_novel'] = content[2]\n",
    "novel['chapters_of_novel'] = content[3]\n",
    "novel['status_of_active'] = content[5]\n",
    "\n",
    "rated_novel = content[6].strip().split(')')[0].split('(')\n",
    "novel['rated_novel'] = {\"average\":rated_novel[0].strip(), \"people_ratings\":rated_novel[1].strip()}\n",
    "\n",
    "novel['original_language'] = content[7]\n",
    "try:\n",
    "    novel['author'] = content[try_and_try('Autor', content)]\n",
    "except:\n",
    "    pass\n",
    "try:\n",
    "    novel['translator'] = content[try_and_try('Tradutor', content)]\n",
    "except:\n",
    "    pass\n",
    "try:\n",
    "    novel['reviewer'] = content[try_and_try('Revisor', content)]\n",
    "except:\n",
    "    pass\n",
    "novel"
   ]
  },
  {
   "cell_type": "code",
   "execution_count": 154,
   "id": "77b2f1ce",
   "metadata": {},
   "outputs": [
    {
     "name": "stdout",
     "output_type": "stream",
     "text": [
      "{\"name_of_novel\": \"A Guerra dos Nove Mundos GNM\", \"genre_of_novel\": \"Fantasia\", \"chapters_of_novel\": \"232 Capítulos\", \"status_of_active\": \"Em Andamento\", \"rated_novel\": {\"average\": \"5.0\", \"people_ratings\": \"3 Avaliações\"}, \"original_language\": \"Português\", \"author\": \"Maurício Argôlo\", \"reviewer\": \"solidsnake\", \"synopsis\": \"O Mundo Celestial, antes deslumbrante e pacífico foi repentinamente atacado. A paz que perdurou milhões de anos chegou ao fim sendo substituída por morte e destruição. Como último ato de desespero, os príncipes do Mundo Celestial sacrificaram suas vidas para que uma centelha de esperança fosse criada.Em um mundo, a milhões de quilômetros de distância de onde a tragédia aconteceu, a noite estava deslumbrante e bela na qual a lua brilhava magnanimamente no céu estrelado, uma criança acabou de nascer, uma criança mortal que recebeu a última luz de esperança produzida pelos Deuses.Assim começa a história de Sagwa, filha de um Clã Mortal, que vivia uma vida simples e pacífica até que os horrores de uma poderosa guerra alcançaram o seu vilarejo, consequentemente, Sagwa teve seu primeiro contato com os terrores do mundo. Agora, Sagwa precisa encontrar dentro de si a força necessária para superar as dificuldades que lhe foram impostas e pavimentar sua caminhada marcial para então descobrir o quão alto ela pode chegar.\"}\n"
     ]
    }
   ],
   "source": [
    "content_main = soup.find(id='synopsis-content').text\n",
    "novel['synopsis'] = content_main\n",
    "print(json.dumps(novel, ensure_ascii=False))"
   ]
  },
  {
   "cell_type": "code",
   "execution_count": null,
   "id": "6593b614",
   "metadata": {},
   "outputs": [],
   "source": []
  },
  {
   "cell_type": "code",
   "execution_count": null,
   "id": "132dc103",
   "metadata": {},
   "outputs": [],
   "source": []
  },
  {
   "cell_type": "code",
   "execution_count": 155,
   "id": "0e8534c8",
   "metadata": {},
   "outputs": [],
   "source": [
    "# "
   ]
  },
  {
   "cell_type": "code",
   "execution_count": null,
   "id": "f322046c",
   "metadata": {},
   "outputs": [],
   "source": []
  },
  {
   "cell_type": "code",
   "execution_count": null,
   "id": "fbcc820f",
   "metadata": {},
   "outputs": [],
   "source": []
  },
  {
   "cell_type": "code",
   "execution_count": null,
   "id": "6f99e367",
   "metadata": {},
   "outputs": [],
   "source": []
  },
  {
   "cell_type": "code",
   "execution_count": null,
   "id": "3b7b8bda",
   "metadata": {},
   "outputs": [],
   "source": []
  }
 ],
 "metadata": {
  "kernelspec": {
   "display_name": "Python 3",
   "language": "python",
   "name": "python3"
  },
  "language_info": {
   "codemirror_mode": {
    "name": "ipython",
    "version": 3
   },
   "file_extension": ".py",
   "mimetype": "text/x-python",
   "name": "python",
   "nbconvert_exporter": "python",
   "pygments_lexer": "ipython3",
   "version": "3.8.8"
  }
 },
 "nbformat": 4,
 "nbformat_minor": 5
}
