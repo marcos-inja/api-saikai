{
 "cells": [
  {
   "cell_type": "code",
   "execution_count": 84,
   "source": [
    "import requests\n",
    "from bs4 import BeautifulSoup\n",
    "\n",
    "nome_novel = 'reincarnation-of-the-strongest-sword-god-rssg'\n",
    "novel = requests.get(f'https://saikaiscan.com.br/series/{nome_novel}?tab=sobre')"
   ],
   "outputs": [],
   "metadata": {}
  },
  {
   "cell_type": "code",
   "execution_count": 108,
   "source": [
    "soup = BeautifulSoup(novel.text, 'html.parser')"
   ],
   "outputs": [],
   "metadata": {}
  },
  {
   "cell_type": "code",
   "execution_count": 109,
   "source": [
    "content_main = soup.find_all(class_ = '__text-content')\n",
    "print(content_main[0])"
   ],
   "outputs": [
    {
     "output_type": "stream",
     "name": "stdout",
     "text": [
      "<div class=\"__text-content\" data-v-765fe70d=\"\" id=\"synopsis-content\"><p class=\"ql-paragraph-height-12\"><span style=\"line-height: 1.5;\">Imagine seus contos de fadas favoritos distorcidos por um dos mais famosos escritores de terror japonês! Nessa one shot do Junji Itou, você verá a distorção da branca de neve.</span></p></div>\n"
     ]
    }
   ],
   "metadata": {}
  },
  {
   "cell_type": "markdown",
   "source": [
    "# Pega a sinopse"
   ],
   "metadata": {}
  },
  {
   "cell_type": "code",
   "execution_count": 34,
   "source": [
    "try:\n",
    "    text_synopsis = content_main[0].find('span')\n",
    "    print(text_synopsis.contents[0])\n",
    "except:\n",
    "    text_synopsis = content_main[0].find_all('p')\n",
    "    cont = 0\n",
    "    for i in text_synopsis:\n",
    "        print(text_synopsis[cont].contents[0])\n",
    "        cont+=1"
   ],
   "outputs": [
    {
     "output_type": "stream",
     "name": "stdout",
     "text": [
      "Ele é persistente e não está disposto a ser normal. Entretanto, o caminho estava destinado a ser esse, nascido em um dos ramos de uma pequena seita.\n",
      "Contudo, um dia, seu olho esquerdo se funde com o olho de um Antigo Deus. A partir daquele momento, ele se transformou de um peixe para um dragão.\n",
      "Ele se ergue igual uma estrela, trilhando o caminho de um lendário cultivador.\n",
      "Por ser uma pequena formiga no mundo pequeno, passo a passo ele sobe, para um lugar cheio de poderosas seitas, fortes clãs antigos e inúmeros gênios.\n",
      "Essa é uma era das lendas.\n"
     ]
    }
   ],
   "metadata": {}
  },
  {
   "cell_type": "markdown",
   "source": [
    "# Pega os gêneros das obras"
   ],
   "metadata": {}
  },
  {
   "cell_type": "code",
   "execution_count": 49,
   "source": [
    "#Pega os gêneros\n",
    "span = content_main[1].find_all('span')\n",
    "if span == []:\n",
    "    span = content_main[2].find_all('span')\n",
    "cont = 0\n",
    "for i in span:\n",
    "    try:\n",
    "        spann = span[cont].find('span')\n",
    "        spann = spann.contents[1].strip()\n",
    "        print(spann)\n",
    "        cont += 3\n",
    "    except:\n",
    "        pass"
   ],
   "outputs": [
    {
     "output_type": "stream",
     "name": "stdout",
     "text": [
      "Ação\n",
      "Aventura\n",
      "Fantasia\n",
      "Reencarnação\n",
      "Tragédia\n",
      "Wuxia\n",
      "Xianxia\n",
      "Xuanhuan\n"
     ]
    }
   ],
   "metadata": {}
  },
  {
   "cell_type": "markdown",
   "source": [
    "# Pega ás tags"
   ],
   "metadata": {}
  },
  {
   "cell_type": "code",
   "execution_count": 112,
   "source": [
    "span = content_main[2].find_all('span')\n",
    "cont = 0\n",
    "\n",
    "for i in span:\n",
    "    try:\n",
    "        spann = i.find('span')\n",
    "        spann = spann.contents[0].strip()\n",
    "        print(spann)\n",
    "        cont += 1\n",
    "    except:\n",
    "        pass\n",
    "\n",
    "if cont == 0:\n",
    "    span = content_main[3].find_all('span')\n",
    "    cont = 0\n",
    "    for i in span:\n",
    "        try:\n",
    "            spann = i.find('span')\n",
    "            spann = spann.contents[0].strip()\n",
    "            print(spann)\n",
    "            cont += 1\n",
    "        except:\n",
    "            pass"
   ],
   "outputs": [
    {
     "output_type": "stream",
     "name": "stdout",
     "text": [
      "Mangá\n"
     ]
    }
   ],
   "metadata": {}
  },
  {
   "cell_type": "code",
   "execution_count": null,
   "source": [],
   "outputs": [],
   "metadata": {}
  },
  {
   "cell_type": "code",
   "execution_count": null,
   "source": [],
   "outputs": [],
   "metadata": {}
  }
 ],
 "metadata": {
  "kernelspec": {
   "name": "python3",
   "display_name": "Python 3.8.10 64-bit"
  },
  "language_info": {
   "codemirror_mode": {
    "name": "ipython",
    "version": 3
   },
   "file_extension": ".py",
   "mimetype": "text/x-python",
   "name": "python",
   "nbconvert_exporter": "python",
   "pygments_lexer": "ipython3",
   "version": "3.8.10"
  },
  "interpreter": {
   "hash": "916dbcbb3f70747c44a77c7bcd40155683ae19c65e1c03b4aa3499c5328201f1"
  }
 },
 "nbformat": 4,
 "nbformat_minor": 5
}