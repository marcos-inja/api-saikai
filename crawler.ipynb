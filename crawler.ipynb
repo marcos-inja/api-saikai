{
 "cells": [
  {
   "cell_type": "code",
   "execution_count": 81,
   "id": "54a64167",
   "metadata": {},
   "outputs": [],
   "source": [
    "import requests\n",
    "from bs4 import BeautifulSoup\n",
    "import json\n",
    "\n",
    "URL = 'https://saikaiscan.com.br/series'\n",
    "url_part_name_novel = '/a-guerra-dos-nove-mundos-gnm'\n",
    "\n",
    "url_format = f'{URL}{url_part_name_novel}'\n",
    "\n",
    "page_source = requests.get(url_format)\n",
    "soup = BeautifulSoup(page_source.text, 'html.parser')"
   ]
  },
  {
   "cell_type": "code",
   "execution_count": 82,
   "id": "5bc22019",
   "metadata": {},
   "outputs": [
    {
     "data": {
      "text/plain": [
       "['0 Capítulos Lançados na Última Semana',\n",
       " 'A Guerra dos Nove Mundos GNM',\n",
       " 'Fantasia',\n",
       " '232 Capítulos',\n",
       " 'Em 194 Bibliotecas',\n",
       " 'Em Andamento',\n",
       " '5.0 (3 Avaliações) Idioma Original:',\n",
       " 'Português',\n",
       " 'Autor:',\n",
       " 'Maurício Argôlo',\n",
       " 'Revisor:',\n",
       " 'solidsnake',\n",
       " 'QC:',\n",
       " 'bru']"
      ]
     },
     "execution_count": 82,
     "metadata": {},
     "output_type": "execute_result"
    }
   ],
   "source": [
    "content = soup.find(class_ = '__content')\n",
    "content = content.text.split(\"\\n\")\n",
    "content = [i.strip() for i in content]\n",
    "content = [i for i in content if i != '']\n",
    "content"
   ]
  },
  {
   "cell_type": "code",
   "execution_count": 83,
   "id": "c4f5db55",
   "metadata": {},
   "outputs": [],
   "source": [
    "def try_and_try(name, content):\n",
    "    for pos , i in enumerate(content):\n",
    "        if name in i:\n",
    "            return pos + 1"
   ]
  },
  {
   "cell_type": "code",
   "execution_count": 84,
   "id": "4b6ee2e2",
   "metadata": {},
   "outputs": [
    {
     "data": {
      "text/plain": [
       "{'image': 'https://s3-alpha.saikai.com.br/series/a-guerra-dos-nove-mundos-gnm.jpg',\n",
       " 'name_of_novel': 'A Guerra dos Nove Mundos',\n",
       " 'initals': 'GNM',\n",
       " 'genre_of_novel': 'Fantasia',\n",
       " 'chapters_of_novel': 232,\n",
       " 'status_of_active': 'Em Andamento',\n",
       " 'rated_novel': {'average': 5.0, 'people_ratings': 3},\n",
       " 'original_language': 'Português',\n",
       " 'author': 'Maurício Argôlo',\n",
       " 'group': {'reviewer': 'solidsnake', 'QC': 'bru'}}"
      ]
     },
     "execution_count": 84,
     "metadata": {},
     "output_type": "execute_result"
    }
   ],
   "source": [
    "novel = {}\n",
    "\n",
    "img = soup.find(class_ = '__left').find('img')\n",
    "novel['image'] = img.attrs['src']\n",
    "\n",
    "name_and_initals = content[1].rsplit(' ', 1)\n",
    "novel['name_of_novel'] = name_and_initals[0]\n",
    "novel['initals'] = name_and_initals[1]\n",
    "\n",
    "novel['genre_of_novel'] = content[2]\n",
    "novel['chapters_of_novel'] = int(content[3].split(' ')[0])\n",
    "novel['status_of_active'] = content[5]\n",
    "\n",
    "rated_novel = content[6].strip().split(')')[0].split('(')\n",
    "novel['rated_novel'] = {\"average\":float(rated_novel[0].strip()),\n",
    "                        \"people_ratings\":int(rated_novel[1].strip().split(' ')[0])}\n",
    "\n",
    "novel['original_language'] = content[7]\n",
    "try:\n",
    "    novel['author'] = content[try_and_try('Autor', content)]\n",
    "except:\n",
    "    pass\n",
    "\n",
    "novel['group'] = {}\n",
    "try:\n",
    "    novel['group']['translator'] = content[try_and_try('Tradutor', content)]\n",
    "except:\n",
    "    pass\n",
    "try:\n",
    "    novel['group']['reviewer'] = content[try_and_try('Revisor', content)]\n",
    "except:\n",
    "    pass\n",
    "try:\n",
    "    novel['group']['QC'] = content[try_and_try('QC', content)]\n",
    "except:\n",
    "    pass\n",
    "novel"
   ]
  },
  {
   "cell_type": "code",
   "execution_count": 85,
   "id": "77b2f1ce",
   "metadata": {},
   "outputs": [
    {
     "name": "stdout",
     "output_type": "stream",
     "text": [
      "{\n",
      "  \"image\": \"https://s3-alpha.saikai.com.br/series/a-guerra-dos-nove-mundos-gnm.jpg\",\n",
      "  \"name_of_novel\": \"A Guerra dos Nove Mundos\",\n",
      "  \"initals\": \"GNM\",\n",
      "  \"genre_of_novel\": \"Fantasia\",\n",
      "  \"chapters_of_novel\": 232,\n",
      "  \"status_of_active\": \"Em Andamento\",\n",
      "  \"rated_novel\": {\n",
      "    \"average\": 5.0,\n",
      "    \"people_ratings\": 3\n",
      "  },\n",
      "  \"original_language\": \"Português\",\n",
      "  \"author\": \"Maurício Argôlo\",\n",
      "  \"group\": {\n",
      "    \"reviewer\": \"solidsnake\",\n",
      "    \"QC\": \"bru\"\n",
      "  },\n",
      "  \"synopsis\": \"O Mundo Celestial, antes deslumbrante e pacífico foi repentinamente atacado. A paz que perdurou milhões de anos chegou ao fim sendo substituída por morte e destruição. Como último ato de desespero, os príncipes do Mundo Celestial sacrificaram suas vidas para que uma centelha de esperança fosse criada.Em um mundo, a milhões de quilômetros de distância de onde a tragédia aconteceu, a noite estava deslumbrante e bela na qual a lua brilhava magnanimamente no céu estrelado, uma criança acabou de nascer, uma criança mortal que recebeu a última luz de esperança produzida pelos Deuses.Assim começa a história de Sagwa, filha de um Clã Mortal, que vivia uma vida simples e pacífica até que os horrores de uma poderosa guerra alcançaram o seu vilarejo, consequentemente, Sagwa teve seu primeiro contato com os terrores do mundo. Agora, Sagwa precisa encontrar dentro de si a força necessária para superar as dificuldades que lhe foram impostas e pavimentar sua caminhada marcial para então descobrir o quão alto ela pode chegar.\"\n",
      "}\n"
     ]
    }
   ],
   "source": [
    "content_main = soup.find(id='synopsis-content').text\n",
    "novel['synopsis'] = content_main\n",
    "print(json.dumps(novel, ensure_ascii=False, indent=2))"
   ]
  },
  {
   "cell_type": "code",
   "execution_count": null,
   "id": "6593b614",
   "metadata": {},
   "outputs": [],
   "source": []
  },
  {
   "cell_type": "code",
   "execution_count": null,
   "id": "132dc103",
   "metadata": {},
   "outputs": [],
   "source": []
  },
  {
   "cell_type": "code",
   "execution_count": 10,
   "id": "0e8534c8",
   "metadata": {},
   "outputs": [],
   "source": []
  },
  {
   "cell_type": "code",
   "execution_count": null,
   "id": "f322046c",
   "metadata": {},
   "outputs": [],
   "source": []
  },
  {
   "cell_type": "code",
   "execution_count": null,
   "id": "fbcc820f",
   "metadata": {},
   "outputs": [],
   "source": []
  },
  {
   "cell_type": "code",
   "execution_count": null,
   "id": "6f99e367",
   "metadata": {},
   "outputs": [],
   "source": []
  },
  {
   "cell_type": "code",
   "execution_count": null,
   "id": "3b7b8bda",
   "metadata": {},
   "outputs": [],
   "source": []
  }
 ],
 "metadata": {
  "kernelspec": {
   "display_name": "Python 3",
   "language": "python",
   "name": "python3"
  },
  "language_info": {
   "codemirror_mode": {
    "name": "ipython",
    "version": 3
   },
   "file_extension": ".py",
   "mimetype": "text/x-python",
   "name": "python",
   "nbconvert_exporter": "python",
   "pygments_lexer": "ipython3",
   "version": "3.8.8"
  }
 },
 "nbformat": 4,
 "nbformat_minor": 5
}
